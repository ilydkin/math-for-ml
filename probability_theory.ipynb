{
 "cells": [
  {
   "cell_type": "code",
   "execution_count": 34,
   "id": "6c748fbc-2369-4b48-bdfe-d701f79d6aea",
   "metadata": {},
   "outputs": [],
   "source": [
    "import pandas as pd\n",
    "import numpy as np\n",
    "import matplotlib.pyplot as plt\n",
    "\n",
    "from sympy import *\n",
    "from scipy.stats import *\n",
    "import random"
   ]
  },
  {
   "cell_type": "markdown",
   "id": "9fd30187-f031-43c3-b8de-a6566359f855",
   "metadata": {},
   "source": [
    "# Law of large numbers"
   ]
  },
  {
   "cell_type": "markdown",
   "id": "2b10ee06-053a-4834-b122-cb1f7e601a09",
   "metadata": {
    "tags": []
   },
   "source": [
    "## Task 1 Coin toss\n",
    "Try simulating coin tosses using the coinToss function. The function outputs the number of trials, the percentages of heads and tails, and plots a graph showing the total percentage of heads over all trials from 1 up to the specified number of trials.\n",
    "\n",
    "- What characteristics does the plotted curve possess?\n",
    "- As the number of trials increases, what value does the percentage of heads approach? How can this be rationalized?"
   ]
  },
  {
   "cell_type": "code",
   "execution_count": 89,
   "id": "77f14009-50ba-4377-bb45-5b20870a94d3",
   "metadata": {},
   "outputs": [],
   "source": [
    "def coinToss(number):\n",
    "    recordList, proportionList, orli, reshki = [], [], 0, 0\n",
    "    rangeList = range(1, number+1) #number of tosses\n",
    "    for i in rangeList: \n",
    "        flip = random.randint(0, 1) #returns 0 (tails), or 1 (head)\n",
    "        if flip == 0:\n",
    "            recordList.append(\"О\")\n",
    "            orli += 1\n",
    "        else:\n",
    "            recordList.append(\"Р\")\n",
    "            reshki += 1\n",
    "        proportionList.append(orli/i)\n",
    "    \n",
    "    print(\"number of trials: \"+ str(number))\n",
    "    print(\"share of heads: \" + str(orli/i) + \" share of tails: \" + str(reshki/i))\n",
    "    \n",
    "    # the graph\n",
    "    plt.figure(figsize=(40, 10), dpi=30)\n",
    "    plt.plot(rangeList, proportionList)\n",
    "    plt.tick_params(axis='both', which='major', labelsize=10)\n",
    "    plt.xticks(np.arange(1, number+4, step=5))\n",
    "    plt.yticks(np.arange(0, 1.1, step=0.1))"
   ]
  },
  {
   "cell_type": "code",
   "execution_count": 90,
   "id": "92d07f42-b5ac-4078-93a4-630f1d744266",
   "metadata": {},
   "outputs": [
    {
     "name": "stdout",
     "output_type": "stream",
     "text": [
      "number of trials: 5\n",
      "share of heads: 0.8 share of tails: 0.2\n",
      "None\n",
      "number of trials: 5000\n",
      "share of heads: 0.4856 share of tails: 0.5144\n",
      "None\n"
     ]
    },
    {
     "data": {
      "image/png": "[encoded data removed]",
      "text/plain": [
       "<Figure size 1200x300 with 1 Axes>"
      ]
     },
     "metadata": {
      "needs_background": "light"
     },
     "output_type": "display_data"
    },
    {
     "data": {
      "image/png": "[encoded data removed]",
      "text/plain": [
       "<Figure size 1200x300 with 1 Axes>"
      ]
     },
     "metadata": {
      "needs_background": "light"
     },
     "output_type": "display_data"
    }
   ],
   "source": [
    "print (coinToss(5))\n",
    "print (coinToss(5000))"
   ]
  },
  {
   "cell_type": "markdown",
   "id": "fe2387a1-9633-4d11-b994-1f8fdca00aac",
   "metadata": {},
   "source": [
    "**Answer**\n",
    "The algorithm exhibits the phenomenon of the law of large numbers, which implies that as the sample size increases, the sample mean converges to the expected value (in this case, 1/2). This trend is also evident from the graph."
   ]
  },
  {
   "cell_type": "markdown",
   "id": "c8ba32b6-73ab-48b3-a103-3dadef65be6f",
   "metadata": {
    "tags": []
   },
   "source": [
    "## Task 2 Law of large numbers\n",
    "Try diceRoll function to simulate dice rolls. The function models a series of rolls of two dice and outputs the probability that the sum on the dice will be greater than the parameter k (the proportion of outcomes where the sum is greater than k, relative to all outcomes).\n",
    "\n",
    "1. What values will the probability converge to at a fixed k and increasing number? What happens if k is set to 6 or 8? How are the obtained probabilities related to the theoretical probabilities?\n",
    "2. What will the total sum of rolls divided by their number converge to? What will the average difference between the current roll and the obtained mean value converge to?"
   ]
  },
  {
   "cell_type": "code",
   "execution_count": 32,
   "id": "e204e96a-b9cc-4498-ba6d-3e3f16488efa",
   "metadata": {},
   "outputs": [],
   "source": [
    "def diceRoll (number, k):\n",
    "    sumList,recordList= [], [] \n",
    "    rangeList = range(1, number+1)\n",
    "\n",
    "    for i in rangeList: \n",
    "        flip1 = random.randint(1,6) #возвращает число от 1 до 6\n",
    "        flip2 = random.randint(1,6)\n",
    "        flipsum = flip1 + flip2\n",
    "        sumList.append(flipsum)\n",
    "        recordList.append([flip1, flip2])\n",
    "    \n",
    "    print('The probability that dice sum exceedes ' +str(k) +' after ' + str(number) + \n",
    "          ' trials: ' + str(sum([x > k for x in sumList])/number))"
   ]
  },
  {
   "cell_type": "code",
   "execution_count": 33,
   "id": "439207d6-da0b-4dd4-86b8-36ad95f9ce68",
   "metadata": {},
   "outputs": [
    {
     "name": "stdout",
     "output_type": "stream",
     "text": [
      "The probability that dice sum exceedes 4 after 10000 trials: 0.8325\n"
     ]
    }
   ],
   "source": [
    "diceRoll(10000, 4)"
   ]
  },
  {
   "cell_type": "markdown",
   "id": "9a01fe41-e22d-4a11-bb66-08575f78d447",
   "metadata": {},
   "source": [
    "*1. What values will the probability converge to at a fixed k and increasing number?*\n",
    " **Experimental probability will converge to the theoretical one calculated below**"
   ]
  },
  {
   "cell_type": "code",
   "execution_count": 64,
   "id": "fa331aba-9646-41cf-8a92-c6dc5ded8e3d",
   "metadata": {},
   "outputs": [
    {
     "name": "stdin",
     "output_type": "stream",
     "text": [
      "enter a desirable 2d6 outcome: 5\n"
     ]
    },
    {
     "name": "stdout",
     "output_type": "stream",
     "text": [
      "theoretical probability of the outcome being over 5 is 72.22%\n",
      "expected values is = 7\n"
     ]
    }
   ],
   "source": [
    "def theoretical_probability (k):\n",
    "\n",
    "    # elementary outcomes' probability\n",
    "    k2 = 1/36 \n",
    "    k3 = 2/36\n",
    "    k4 = 3/36\n",
    "    k5 = 4/36\n",
    "    k6 = 5/36\n",
    "    k7 = 6/36\n",
    "    k8 = 5/36\n",
    "    k9 = 4/36\n",
    "    k10= 3/36\n",
    "    k11= 2/36\n",
    "    k12= 1/36 \n",
    "\n",
    "    # expected value\n",
    "    M = 2 * 1/(6*6) + 3* 2/(6*6) + 4* 3/(6*6) \\\n",
    "        + 5* 4/(6*6) + 6* 5/(6*6) + 7* 6/(6*6) \\\n",
    "        + 8* 5/(6*6) + 9* 4/(6*6) + 10* 3/(6*6) \\\n",
    "        + 11* 2/(6*6) + 12* 1/(6*6)\n",
    "\n",
    "    # probability that the sum overcomes k \n",
    "    Over2 = k3+k4+k5+k6+k7+k8+k9+k10+k11+k12\n",
    "    Over3 = k4+k5+k6+k7+k8+k9+k10+k11+k12\n",
    "    Over4 = k5+k6+k7+k8+k9+k10+k11+k12\n",
    "    Over5 = k6+k7+k8+k9+k10+k11+k12\n",
    "    Over6 = k7+k8+k9+k10+k11+k12\n",
    "    Over7 = k8+k9+k10+k11+k12\n",
    "    Over8 = k9+k10+k11+k12\n",
    "    Over9 = k10+k11+k12\n",
    "    Over10= k11+k12\n",
    "    Over11= k12\n",
    "    Over12= 0\n",
    "\n",
    "    # interactive part\n",
    "    dictionary = {2:Over2, 3:Over3, 4:Over4, \n",
    "                  5:Over5, 6:Over6, 7:Over7, \n",
    "                  8:Over8, 9:Over9, 10:Over10, \n",
    "                  11:Over11, 12:Over12}\n",
    "\n",
    "    print (f'theoretical probability of the outcome being over {k} is {(round(dictionary[k], 4) * 100)}%')\n",
    "    print (f'expected values is = {int(M)}')\n",
    "\n",
    "k = int(input('enter a desirable 2d6 outcome:'))\n",
    "\n",
    "theoretical_probability (k)"
   ]
  },
  {
   "cell_type": "markdown",
   "id": "a127ba9c-e4c3-4447-96a6-e85cc75ce81e",
   "metadata": {},
   "source": [
    "**Answer**\n",
    "Increasing k will result in a reduction in the likelihood of a positive outcome. As the number of trials increases, the experimental probability will increasingly approximate the theoretical probability. The sample mean will converge to the expected value of 7. The average difference will tend towards zero."
   ]
  },
  {
   "cell_type": "markdown",
   "id": "7c2bf24f-0583-438b-834e-b37033eca982",
   "metadata": {
    "tags": []
   },
   "source": [
    "## Task 4 Monte Carlo\n",
    "\n",
    "The algorithm selects two values, x and y, from the range between -1 and 1, and constructs a point in the plane with coordinates (x, y). Points that fall inside a unit circle centered at zero are colored blue, while points outside the circle are colored red. The number of points generated is determined by the n parameter.\n",
    "\n",
    "- What is the blue dot proportion tending to? How is it related to the areas of geometric shapes? \n",
    "- Analyze how the proportion of blue dots changes with an increase in the number of dots and compare it to the theoretical value of the area."
   ]
  },
  {
   "cell_type": "code",
   "execution_count": 35,
   "id": "e5b5b7f6-b510-4b66-979e-66bc4d7295c0",
   "metadata": {},
   "outputs": [],
   "source": [
    "def plot_circle(n):\n",
    "  x = 2 * np.random.random(int(n)) - 1\n",
    "  y = 2 * np.random.random(int(n)) - 1\n",
    "  insideX, insideY  = x[(x*x+y*y)<=1],y[(x*x+y*y)<=1] #координаты точек внутри\n",
    "  outsideX, outsideY = x[(x*x+y*y)>1],y[(x*x+y*y)>1] #координаты точек снаружи\n",
    "  \n",
    "  print('Number of dots inside the circle:', len(insideX))\n",
    "  print('Number of dots outside the circle:', (len(outsideX)))\n",
    "  print('Share of dots inside the circle:', len(insideX)/(len(outsideX)+len(insideX)))\n",
    "  \n",
    "  # the plot\n",
    "  fig, ax = plt.subplots(1)\n",
    "  ax.scatter(insideX, insideY, c='b', alpha=0.6, edgecolor=None)\n",
    "  ax.scatter(outsideX, outsideY, c='r', alpha=0.7, edgecolor=None)\n",
    "  ax.set_aspect('equal')\n",
    "  fig.show()"
   ]
  },
  {
   "cell_type": "code",
   "execution_count": 36,
   "id": "bac783cb-abd1-42d7-a33d-5cc108bbdfbe",
   "metadata": {},
   "outputs": [
    {
     "name": "stdout",
     "output_type": "stream",
     "text": [
      "Number of dots inside the circle: 3925\n",
      "Number of dots outside the circle: 1075\n",
      "Share of dots inside the circle: 0.785\n"
     ]
    },
    {
     "name": "stderr",
     "output_type": "stream",
     "text": [
      "C:\\Users\\Ivan\\AppData\\Local\\Temp\\ipykernel_8828\\3906344471.py:16: UserWarning: Matplotlib is currently using module://matplotlib_inline.backend_inline, which is a non-GUI backend, so cannot show the figure.\n",
      "  fig.show()\n"
     ]
    },
    {
     "data": {
      "image/png": "[encoded data removed]",
      "text/plain": [
       "<Figure size 432x288 with 1 Axes>"
      ]
     },
     "metadata": {
      "needs_background": "light"
     },
     "output_type": "display_data"
    }
   ],
   "source": [
    "plot_circle(5000)"
   ]
  },
  {
   "cell_type": "code",
   "execution_count": 13,
   "id": "18b5b8cf-7ae8-44ba-b7cc-51fcffaee5ab",
   "metadata": {},
   "outputs": [
    {
     "data": {
      "text/latex": [
       "$\\displaystyle \\pi r^{2}$"
      ],
      "text/plain": [
       "pi*r**2"
      ]
     },
     "metadata": {},
     "output_type": "display_data"
    },
    {
     "data": {
      "text/latex": [
       "$\\displaystyle 0.785375$"
      ],
      "text/plain": [
       "0.785375000000000"
      ]
     },
     "execution_count": 13,
     "metadata": {},
     "output_type": "execute_result"
    }
   ],
   "source": [
    "# area of the circle\n",
    "r = symbols ('r')\n",
    "S = pi*r**2\n",
    "display (S)\n",
    "S.subs ({pi:3.1415, r:0.5})"
   ]
  },
  {
   "cell_type": "markdown",
   "id": "8f2ac41d-8801-462f-bac5-4d9a828c5fb4",
   "metadata": {
    "tags": []
   },
   "source": [
    "**Answer**\n",
    "With an increasing number of points, the experimental proportion of blue points in the total sample approaches the theoretical one, which is approximately 78.5%, and is equal to the ratio of the area of the circle to the area of the square in which it is inscribed."
   ]
  },
  {
   "cell_type": "markdown",
   "id": "99382ad1-143c-493d-908f-2815da311ac8",
   "metadata": {},
   "source": [
    "## Task 3 Two dice\n",
    "\n",
    "Below are the tables with sums and products of values when throwing two dice. Using these tables, calculate the probabilities of the following complex events.\n",
    "<p align=\"left\">\n",
    "  <img src=\"https://drive.google.com/uc?id=1If1NDfwPCfLC6JHqxa5IDgXLRzrbB-sI\" alt=\"drawing\" width=\"300\"/>\n",
    "</p>\n",
    "<p align=\"left\">\n",
    "  <img src=\"https://drive.google.com/uc?id=1vWNTqND6br6XzESVSwqKjK9AqeN0-k-4\" alt=\"drawing\" width=\"300\"/>\n",
    "</p>\n",
    "\n",
    "1. The probability that the resulting sum of the values on the dice is an odd number\n",
    "2. The probability that the resulting sum of values on the dice is a multiple of three.\n",
    "3. The probability that the sum will be less than five or greater than ten.\n",
    "4. The probability that the product of the values will be equal to twelve.\n",
    "5. Probability that the product of values is odd."
   ]
  },
  {
   "cell_type": "code",
   "execution_count": 23,
   "id": "20bd5deb-cc1c-424e-b635-1f76016603fd",
   "metadata": {},
   "outputs": [
    {
     "data": {
      "text/plain": [
       "0.5"
      ]
     },
     "execution_count": 23,
     "metadata": {},
     "output_type": "execute_result"
    }
   ],
   "source": [
    "# 1. The probability that the resulting sum of the values on the dice is an odd number\n",
    "18/36"
   ]
  },
  {
   "cell_type": "code",
   "execution_count": 24,
   "id": "a7109ee3-eb20-44aa-a8ff-b541f99e47a7",
   "metadata": {},
   "outputs": [
    {
     "data": {
      "text/plain": [
       "0.3333333333333333"
      ]
     },
     "execution_count": 24,
     "metadata": {},
     "output_type": "execute_result"
    }
   ],
   "source": [
    "# 2. The probability that the resulting sum of values on the dice is a multiple of three.\n",
    "12/36"
   ]
  },
  {
   "cell_type": "code",
   "execution_count": 25,
   "id": "acb167d9-b9cb-46bd-a7e4-99665c624b65",
   "metadata": {},
   "outputs": [
    {
     "data": {
      "text/plain": [
       "0.25"
      ]
     },
     "execution_count": 25,
     "metadata": {},
     "output_type": "execute_result"
    }
   ],
   "source": [
    "# 3. The probability that the sum will be less than five or greater than ten.\n",
    "(6+3)/36"
   ]
  },
  {
   "cell_type": "code",
   "execution_count": 26,
   "id": "a490c710-cf90-431c-902a-0c6a1806c4e6",
   "metadata": {},
   "outputs": [
    {
     "data": {
      "text/plain": [
       "0.1111111111111111"
      ]
     },
     "execution_count": 26,
     "metadata": {},
     "output_type": "execute_result"
    }
   ],
   "source": [
    "# 4. The probability that the product of the values will be equal to twelve.\n",
    "4/36"
   ]
  },
  {
   "cell_type": "code",
   "execution_count": 27,
   "id": "e2b04b19-0adc-4fc3-92b0-87b08dace7e0",
   "metadata": {},
   "outputs": [
    {
     "data": {
      "text/plain": [
       "0.25"
      ]
     },
     "execution_count": 27,
     "metadata": {},
     "output_type": "execute_result"
    }
   ],
   "source": [
    "# 5. Probability that the product of values is odd.\n",
    "9/36"
   ]
  },
  {
   "cell_type": "code",
   "execution_count": 28,
   "id": "20f36ba6-6863-41d8-aaa0-34ebe8d94a98",
   "metadata": {},
   "outputs": [
    {
     "data": {
      "text/plain": [
       "0.3333333333333333"
      ]
     },
     "execution_count": 28,
     "metadata": {},
     "output_type": "execute_result"
    }
   ],
   "source": [
    "# 6. The probability that the sum of the values will be greater than or equal to their product.\n",
    "12/36"
   ]
  },
  {
   "attachments": {
    "169010a8-9970-4f1a-98b5-50dda692cc62.png": {
     "image/png": "[encoded data removed]"
    }
   },
   "cell_type": "markdown",
   "id": "be5e9af1-3c29-4029-9e54-e7a1f591e8cc",
   "metadata": {
    "tags": []
   },
   "source": [
    "# Bayes' theorem\n",
    "![image.png](attachment:169010a8-9970-4f1a-98b5-50dda692cc62.png)"
   ]
  },
  {
   "cell_type": "markdown",
   "id": "434b4c92-a8b0-4591-a2a7-2bb0babc8200",
   "metadata": {},
   "source": [
    "## Task 5 Conditional probability (Titanic)\n",
    "Download data from $titanic.csv$, limited to the folowing parameters: $'PassengerId','Survived','Pclass','Sex'$\n",
    "\n",
    "1. Write in P_fem the probability that a random passenger on the Titanic is a woman.\n",
    "2. Write in P_1class the probability that a random Titanic passenger was traveling in first class.\n",
    "3. Write in P_surv the probability that a random passenger on the Titanic survived.\n",
    "4. Write in P_fem_surv the probability that the passenger is a woman and that the passenger survived the crash at the same time.\n",
    "5. Find the conditional probability that the passenger will survive if the passenger is a woman.\n",
    "6. By analogy, find the probability that the passenger will survive if the passenger was traveling in first class.\n",
    "7. Find the probability that the passenger will survive, provided that the passenger was traveling in first class and is a woman.\n",
    "8. Find the probability that the passenger will survive, provided that the passenger was traveling in second class and is a man.\n",
    "9. Using the calculated probabilities, find the probability that a randomly selected passenger is a woman if we know that the passenger survived.\n",
    "10. Using the calculated probabilities, find the probability that a randomly selected passenger was traveling in first class if we know that the passenger survived.\n",
    "11. Compare the obtained probabilities with the unconditional probabilities of the corresponding events. Explain the difference in meanings."
   ]
  },
  {
   "cell_type": "code",
   "execution_count": 35,
   "id": "ffbe29b4-f6cc-4513-8472-5824709f7303",
   "metadata": {
    "tags": []
   },
   "outputs": [
    {
     "data": {
      "text/html": [
       "<div>\n",
       "<style scoped>\n",
       "    .dataframe tbody tr th:only-of-type {\n",
       "        vertical-align: middle;\n",
       "    }\n",
       "\n",
       "    .dataframe tbody tr th {\n",
       "        vertical-align: top;\n",
       "    }\n",
       "\n",
       "    .dataframe thead th {\n",
       "        text-align: right;\n",
       "    }\n",
       "</style>\n",
       "<table border=\"1\" class=\"dataframe\">\n",
       "  <thead>\n",
       "    <tr style=\"text-align: right;\">\n",
       "      <th></th>\n",
       "      <th>PassengerId</th>\n",
       "      <th>Survived</th>\n",
       "      <th>Pclass</th>\n",
       "      <th>Sex</th>\n",
       "    </tr>\n",
       "  </thead>\n",
       "  <tbody>\n",
       "    <tr>\n",
       "      <th>0</th>\n",
       "      <td>1</td>\n",
       "      <td>0</td>\n",
       "      <td>3</td>\n",
       "      <td>male</td>\n",
       "    </tr>\n",
       "    <tr>\n",
       "      <th>1</th>\n",
       "      <td>2</td>\n",
       "      <td>1</td>\n",
       "      <td>1</td>\n",
       "      <td>female</td>\n",
       "    </tr>\n",
       "  </tbody>\n",
       "</table>\n",
       "</div>"
      ],
      "text/plain": [
       "   PassengerId  Survived  Pclass     Sex\n",
       "0            1         0       3    male\n",
       "1            2         1       1  female"
      ]
     },
     "execution_count": 35,
     "metadata": {},
     "output_type": "execute_result"
    }
   ],
   "source": [
    "titanic = pd.read_csv(\"data/train.csv\")\n",
    "X = titanic[['PassengerId','Survived','Pclass','Sex']]\n",
    "X.head(2)"
   ]
  },
  {
   "cell_type": "code",
   "execution_count": 39,
   "id": "99aa633a-8ca9-453a-b0b9-ffea98991986",
   "metadata": {},
   "outputs": [
    {
     "data": {
      "text/plain": [
       "0.35241301907968575"
      ]
     },
     "execution_count": 39,
     "metadata": {},
     "output_type": "execute_result"
    }
   ],
   "source": [
    "# 1. Write in P_fem the probability that a random passenger on the Titanic is a woman.\n",
    "P_fem = len (X[X.Sex=='female']) / len (X)\n",
    "P_fem"
   ]
  },
  {
   "cell_type": "code",
   "execution_count": 50,
   "id": "29ee81b6-a307-4cea-9844-42e70e5d6e0f",
   "metadata": {},
   "outputs": [
    {
     "data": {
      "text/plain": [
       "0.24242424242424243"
      ]
     },
     "execution_count": 50,
     "metadata": {},
     "output_type": "execute_result"
    }
   ],
   "source": [
    "# 2. Write in P_1class the probability that a random Titanic passenger was traveling in first class.\n",
    "P_1class = len (X[X.Pclass==1]) / len (X)\n",
    "P_1class"
   ]
  },
  {
   "cell_type": "code",
   "execution_count": 51,
   "id": "2ad2e020-8866-4746-bedc-5792c1c903b6",
   "metadata": {},
   "outputs": [
    {
     "data": {
      "text/plain": [
       "0.3838383838383838"
      ]
     },
     "execution_count": 51,
     "metadata": {},
     "output_type": "execute_result"
    }
   ],
   "source": [
    "# 3. Write in P_surv the probability that a random passenger on the Titanic survived.\n",
    "P_surv = len (X[X.Survived==1]) / len (X)\n",
    "P_surv"
   ]
  },
  {
   "cell_type": "code",
   "execution_count": 52,
   "id": "e8e3d807-8aff-4026-867e-4fd2dce5db77",
   "metadata": {},
   "outputs": [
    {
     "data": {
      "text/plain": [
       "0.2615039281705948"
      ]
     },
     "execution_count": 52,
     "metadata": {},
     "output_type": "execute_result"
    }
   ],
   "source": [
    "# 4. Write in P_fem_surv the probability that the passenger is a woman \n",
    "# and that the passenger survived the crash at the same time.\n",
    "P_fem_surv = len (X[(X.Survived==1) & (X.Sex=='female')]) / len (X)\n",
    "P_fem_surv"
   ]
  },
  {
   "cell_type": "code",
   "execution_count": 53,
   "id": "bce9fa17-7005-465d-8977-373aa52fd46b",
   "metadata": {},
   "outputs": [
    {
     "data": {
      "text/plain": [
       "0.7420382165605095"
      ]
     },
     "execution_count": 53,
     "metadata": {},
     "output_type": "execute_result"
    }
   ],
   "source": [
    "# 5. Find the conditional probability that the passenger will survive if the passenger is a woman.\n",
    "P_cond_surv_fem = P_fem_surv / P_fem\n",
    "P_cond_surv_fem"
   ]
  },
  {
   "cell_type": "code",
   "execution_count": 54,
   "id": "d159b84b-5497-4d5b-a33b-7d0f182e4016",
   "metadata": {},
   "outputs": [
    {
     "data": {
      "text/plain": [
       "0.6296296296296297"
      ]
     },
     "execution_count": 54,
     "metadata": {},
     "output_type": "execute_result"
    }
   ],
   "source": [
    "# 6. By analogy, find the probability that the passenger will survive \n",
    "# if the passenger was traveling in first class.\n",
    "P_1class_surv = len (X[(X.Survived==1) & (X.Pclass==1)]) / len (X)\n",
    "P_cond_surv_1class = P_1class_surv / P_1class\n",
    "P_cond_surv_1class"
   ]
  },
  {
   "cell_type": "code",
   "execution_count": 55,
   "id": "e52d7603-29e3-4359-bec8-318d5defbc61",
   "metadata": {},
   "outputs": [
    {
     "data": {
      "text/plain": [
       "0.9680851063829786"
      ]
     },
     "execution_count": 55,
     "metadata": {},
     "output_type": "execute_result"
    }
   ],
   "source": [
    "# 7. Find the probability that the passenger will survive, \n",
    "# provided that the passenger was traveling in first class and is a woman.\n",
    "P_surv_1class_fem = len (X[(X.Sex=='female') & (X.Pclass==1) & (X.Survived==1)]) / len (X)\n",
    "P_1class_fem = len (X[(X.Sex=='female') & (X.Pclass==1)]) / len (X)\n",
    "P_cond_surv_1class_fem = P_surv_1class_fem / P_1class_fem\n",
    "P_cond_surv_1class_fem"
   ]
  },
  {
   "cell_type": "code",
   "execution_count": 56,
   "id": "c86fa3fa-79d3-402d-a769-668f73a5fba2",
   "metadata": {},
   "outputs": [
    {
     "data": {
      "text/plain": [
       "0.1574074074074074"
      ]
     },
     "execution_count": 56,
     "metadata": {},
     "output_type": "execute_result"
    }
   ],
   "source": [
    "# 8. Find the probability that the passenger will survive, \n",
    "# provided that the passenger was traveling in second class and is a man.\n",
    "P_surv_2class_male = len (X[(X.Sex=='male') & (X.Pclass==2) & (X.Survived==1)]) / len (X)\n",
    "P_2class_male = len (X[(X.Sex=='male') & (X.Pclass==2)]) / len (X)\n",
    "P_cond_surv_2class_male = P_surv_2class_male / P_2class_male\n",
    "P_cond_surv_2class_male"
   ]
  },
  {
   "cell_type": "code",
   "execution_count": 57,
   "id": "4e2b61ca-ac3b-4877-a2f3-9334e03ed36f",
   "metadata": {},
   "outputs": [
    {
     "data": {
      "text/plain": [
       "0.6812865497076023"
      ]
     },
     "execution_count": 57,
     "metadata": {},
     "output_type": "execute_result"
    }
   ],
   "source": [
    "# 9. Using the calculated probabilities, find the probability that a randomly selected passenger \n",
    "# is a woman if we know that the passenger survived.\n",
    "P_cond_fem_surv = P_fem_surv / P_surv\n",
    "P_cond_fem_surv"
   ]
  },
  {
   "cell_type": "code",
   "execution_count": 58,
   "id": "27c21170-d6b7-4d91-9a59-91edda0e49f2",
   "metadata": {},
   "outputs": [
    {
     "data": {
      "text/plain": [
       "0.3976608187134503"
      ]
     },
     "execution_count": 58,
     "metadata": {},
     "output_type": "execute_result"
    }
   ],
   "source": [
    "# 10. Using the calculated probabilities, find the probability that a randomly selected passenger \n",
    "# was traveling in first class if we know that the passenger survived.\n",
    "P_cond_1class_1class = P_1class_surv / P_surv\n",
    "P_cond_1class_1class"
   ]
  },
  {
   "cell_type": "code",
   "execution_count": 63,
   "id": "526d9bff-1b44-4e78-916a-1ca1f94b8857",
   "metadata": {},
   "outputs": [
    {
     "name": "stdout",
     "output_type": "stream",
     "text": [
      "(hypothesis) If events occur in a single space of elementary outcomes, then the a posteriori probability will be higher than the a priori one, because the event that separates them narrows the space of outcomes, while the number of successful outcomes remains the same. Thus in a single space of elementary outcomes, all conditional probabilities will be higher than the corresponding unconditional ones.\n"
     ]
    }
   ],
   "source": [
    "# 11. Compare the obtained probabilities with the unconditional probabilities of the corresponding events. \n",
    "# Explain the difference in meanings.\n",
    "print ('(hypothesis) If events occur in a single space of elementary outcomes, then the a posteriori probability will be higher than the a priori one, because the event that separates them narrows the space of outcomes, while the number of successful outcomes remains the same. Thus in a single space of elementary outcomes, all conditional probabilities will be higher than the corresponding unconditional ones.')"
   ]
  },
  {
   "cell_type": "markdown",
   "id": "c0184b47-e322-4b9f-859d-4234291f1dd4",
   "metadata": {},
   "source": [
    "## Task 6 Conditional probability (Spam)\n",
    "Download data from $letters.xlsx$ \n",
    "- The `spam` column indicates whether a message is spam or not, \n",
    "- The `spam_words` - whether it contains words  usual for spam messages.\n",
    "\n",
    "1. Determine the ratio of spam emails to the total number of emails.\n",
    "2. Determine the ratio of emails that contain words similar to spam to the total number of emails.\n",
    "3. Determine the likelihood that an email contains spam-like words, given that it is classified as spam.\n",
    "4. Determine the likelihood that an email is classified as spam given that it contains spam-like words."
   ]
  },
  {
   "cell_type": "code",
   "execution_count": 36,
   "id": "e9e9383f-7284-4e72-a29a-d67e846a1dbe",
   "metadata": {},
   "outputs": [
    {
     "data": {
      "text/html": [
       "<div>\n",
       "<style scoped>\n",
       "    .dataframe tbody tr th:only-of-type {\n",
       "        vertical-align: middle;\n",
       "    }\n",
       "\n",
       "    .dataframe tbody tr th {\n",
       "        vertical-align: top;\n",
       "    }\n",
       "\n",
       "    .dataframe thead th {\n",
       "        text-align: right;\n",
       "    }\n",
       "</style>\n",
       "<table border=\"1\" class=\"dataframe\">\n",
       "  <thead>\n",
       "    <tr style=\"text-align: right;\">\n",
       "      <th></th>\n",
       "      <th>spam</th>\n",
       "      <th>spam_words</th>\n",
       "    </tr>\n",
       "    <tr>\n",
       "      <th>id_letter</th>\n",
       "      <th></th>\n",
       "      <th></th>\n",
       "    </tr>\n",
       "  </thead>\n",
       "  <tbody>\n",
       "    <tr>\n",
       "      <th>1</th>\n",
       "      <td>да</td>\n",
       "      <td>нет</td>\n",
       "    </tr>\n",
       "    <tr>\n",
       "      <th>2</th>\n",
       "      <td>да</td>\n",
       "      <td>да</td>\n",
       "    </tr>\n",
       "  </tbody>\n",
       "</table>\n",
       "</div>"
      ],
      "text/plain": [
       "          spam spam_words\n",
       "id_letter                \n",
       "1           да        нет\n",
       "2           да         да"
      ]
     },
     "execution_count": 36,
     "metadata": {},
     "output_type": "execute_result"
    }
   ],
   "source": [
    "df = pd.read_excel('data/letters.xlsx', sheet_name='Sheet1', index_col='id_letter')\n",
    "df.head(2)"
   ]
  },
  {
   "cell_type": "code",
   "execution_count": 70,
   "id": "cdddbf48-a490-4168-8ea6-4c98499a8312",
   "metadata": {},
   "outputs": [
    {
     "data": {
      "text/plain": [
       "0.3548387096774194"
      ]
     },
     "execution_count": 70,
     "metadata": {},
     "output_type": "execute_result"
    }
   ],
   "source": [
    "# 1. Determine the ratio of spam emails to the total number of emails.\n",
    "P_spam_letters = len (df[df.spam == 'да']) / len (df)\n",
    "P_spam_letters"
   ]
  },
  {
   "cell_type": "code",
   "execution_count": 71,
   "id": "a285c178-efa6-44fa-b0fc-b99136ff85de",
   "metadata": {},
   "outputs": [
    {
     "data": {
      "text/plain": [
       "0.375"
      ]
     },
     "execution_count": 71,
     "metadata": {},
     "output_type": "execute_result"
    }
   ],
   "source": [
    "# 2. Determine the ratio of emails that contain words similar to spam to the total number of emails.\n",
    "P_letters_with_spam_words = len (df[df.spam_words == 'да']) / len (df)\n",
    "P_letters_with_spam_words"
   ]
  },
  {
   "cell_type": "code",
   "execution_count": 72,
   "id": "504e0399-cd47-4aae-b5e8-296a0058df43",
   "metadata": {},
   "outputs": [
    {
     "data": {
      "text/plain": [
       "0.3636363636363636"
      ]
     },
     "execution_count": 72,
     "metadata": {},
     "output_type": "execute_result"
    }
   ],
   "source": [
    "# 3. Determine the probability that an email contains spam-like words, given that it is classified as spam.\n",
    "P_spam_letters_with_spam_words = len (df[(df.spam_words == 'да') & (df.spam == 'да')]) / len (df)\n",
    "P_cond_spam_words_in_spam_letters = P_spam_letters_with_spam_words / P_spam_letters\n",
    "P_cond_spam_words_in_spam_letters"
   ]
  },
  {
   "cell_type": "code",
   "execution_count": 73,
   "id": "57d09cde-0b5e-45af-813c-78a00cc72e26",
   "metadata": {},
   "outputs": [
    {
     "data": {
      "text/plain": [
       "0.3440860215053763"
      ]
     },
     "execution_count": 73,
     "metadata": {},
     "output_type": "execute_result"
    }
   ],
   "source": [
    "# 4. Determine the probability that an email is classified as spam given that it contains spam-like words.\n",
    "P_cond_spam_letters_with_spam_words = P_spam_letters_with_spam_words / P_letters_with_spam_words\n",
    "P_cond_spam_letters_with_spam_words"
   ]
  },
  {
   "cell_type": "markdown",
   "id": "ef6ab517-f1a3-4f58-bec4-39437a8c938a",
   "metadata": {
    "tags": []
   },
   "source": [
    "# Distributions"
   ]
  },
  {
   "cell_type": "markdown",
   "id": "4e07e9a2-4eaa-48fc-827b-65c59ade28d4",
   "metadata": {},
   "source": [
    "## Task 7 Binomial\n",
    "There is a batch of ten parts. The probability that a part is defective in this batch is `4/5=0.8`. Determine the probability that half of the parts are defective and write a function to calculate it."
   ]
  },
  {
   "cell_type": "code",
   "execution_count": 74,
   "id": "546c6391-1bed-4fd2-87a2-8cccf5be41e6",
   "metadata": {},
   "outputs": [
    {
     "data": {
      "text/latex": [
       "$\\displaystyle 0.0264241152$"
      ],
      "text/plain": [
       "0.0264241152000000"
      ]
     },
     "execution_count": 74,
     "metadata": {},
     "output_type": "execute_result"
    }
   ],
   "source": [
    "def binomial_distribution (n, k, p):\n",
    "    C = factorial (n) / (factorial (k) * factorial(n-k))\n",
    "    return C * p**k * (1-p)**(n-k)\n",
    "\n",
    "binomial_distribution (10, 5, 0.8)"
   ]
  },
  {
   "cell_type": "markdown",
   "id": "c8b5f05d-4217-4808-8057-da3fe6b3770f",
   "metadata": {},
   "source": [
    "## Task 8 Binomial\n",
    "A goalkeeper saves seven consecutive strikes. The probability of this happening is 0.3 each time. Determine the probability of the goalkeeper saving at least three strikes"
   ]
  },
  {
   "cell_type": "code",
   "execution_count": 75,
   "id": "2e110fe4-f816-49d7-b0f3-18f73f70be79",
   "metadata": {},
   "outputs": [
    {
     "data": {
      "text/latex": [
       "$\\displaystyle 0.3529305$"
      ],
      "text/plain": [
       "0.352930500000000"
      ]
     },
     "execution_count": 75,
     "metadata": {},
     "output_type": "execute_result"
    }
   ],
   "source": [
    "P = binomial_distribution (7, 3, 0.3) + \\\n",
    "    binomial_distribution (7, 4, 0.3) + \\\n",
    "    binomial_distribution (7, 5, 0.3) + \\\n",
    "    binomial_distribution (7, 6, 0.3) + \\\n",
    "    binomial_distribution (7, 7, 0.3)\n",
    "P"
   ]
  },
  {
   "cell_type": "markdown",
   "id": "d1b4de7d-f7b8-4af8-9af6-fd0d3c2f8753",
   "metadata": {
    "tags": []
   },
   "source": [
    "## Task 9 Poisson\n",
    "You rolled a pair of dice 10 times in a row. Consider the probability of getting a pair of 2 sixes 1 time. Find it:\n",
    "- using the binomial distribution;\n",
    "- using the Poisson distribution using the law of rare events."
   ]
  },
  {
   "cell_type": "code",
   "execution_count": 76,
   "id": "a835889e-9786-4887-b2a0-a4aa3318d3cc",
   "metadata": {},
   "outputs": [
    {
     "data": {
      "text/latex": [
       "$\\displaystyle 0.215569538256984$"
      ],
      "text/plain": [
       "0.215569538256984"
      ]
     },
     "execution_count": 76,
     "metadata": {},
     "output_type": "execute_result"
    }
   ],
   "source": [
    "binomial_distribution (10, 1, 1/36)"
   ]
  },
  {
   "cell_type": "code",
   "execution_count": 77,
   "id": "051e6ae5-de89-4e6a-9369-5ec1f1edc6ce",
   "metadata": {},
   "outputs": [
    {
     "data": {
      "text/latex": [
       "$\\displaystyle 0.210406980110268$"
      ],
      "text/plain": [
       "0.210406980110268"
      ]
     },
     "execution_count": 77,
     "metadata": {},
     "output_type": "execute_result"
    }
   ],
   "source": [
    "def poisson_distribution (k, λ):\n",
    "    return (exp(1)**(-λ) * λ**k) / factorial (k)\n",
    "\n",
    "# If n=>∞ U p=>0:  λ=np\n",
    "poisson_distribution (1, 10/36)"
   ]
  },
  {
   "cell_type": "markdown",
   "id": "b42d12fa-e8ad-4edd-8cfb-925180039a02",
   "metadata": {
    "tags": []
   },
   "source": [
    "# Continuous random variable"
   ]
  },
  {
   "cell_type": "markdown",
   "id": "ae8b4aab-0da6-4ade-b36d-66195f47ec78",
   "metadata": {},
   "source": [
    "## Task 10 CDF & PDF problem\n",
    "CDF of a continuous random variable: \\\n",
    "$F(x) = 0,$ if $x<= 2$ \\\n",
    "$F(x) = ((x-2)**5) / 32,$ if $2<x<=4$ \\\n",
    "$F(x) = 1,$ if $x>4$\n",
    "\n",
    "Find f(x), M(x), D(x), σ(x)"
   ]
  },
  {
   "cell_type": "code",
   "execution_count": 78,
   "id": "085840d2-cd1c-4416-9b39-4a10bad8eedd",
   "metadata": {},
   "outputs": [
    {
     "data": {
      "text/latex": [
       "$\\displaystyle \\begin{cases} 0 & \\text{for}\\: x \\leq 2 \\\\\\frac{\\left(x - 2\\right)^{5}}{32} & \\text{for}\\: x \\leq 4 \\\\1 & \\text{otherwise} \\end{cases}$"
      ],
      "text/plain": [
       "Piecewise((0, x <= 2), ((x - 2)**5/32, x <= 4), (1, True))"
      ]
     },
     "metadata": {},
     "output_type": "display_data"
    },
    {
     "data": {
      "image/png": "[encoded data removed]",
      "text/plain": [
       "<Figure size 432x288 with 1 Axes>"
      ]
     },
     "metadata": {
      "needs_background": "light"
     },
     "output_type": "display_data"
    },
    {
     "data": {
      "text/plain": [
       "<sympy.plotting.plot.Plot at 0x17d17e28f70>"
      ]
     },
     "execution_count": 78,
     "metadata": {},
     "output_type": "execute_result"
    }
   ],
   "source": [
    "x = Symbol('x')\n",
    "F = Piecewise((0, x<=2), \n",
    "              (((x-2)**5) / 32, x<=4), \n",
    "              (1, True))\n",
    "display (F)\n",
    "plot (F)"
   ]
  },
  {
   "cell_type": "code",
   "execution_count": 79,
   "id": "29213b27-427d-47c2-b13f-2a5f52701c4b",
   "metadata": {},
   "outputs": [
    {
     "name": "stdout",
     "output_type": "stream",
     "text": [
      "probability density\n"
     ]
    },
    {
     "data": {
      "text/latex": [
       "$\\displaystyle \\begin{cases} 0 & \\text{for}\\: x \\leq 2 \\\\\\frac{5 \\left(x - 2\\right)^{4}}{32} & \\text{for}\\: x \\leq 4 \\\\0 & \\text{otherwise} \\end{cases}$"
      ],
      "text/plain": [
       "Piecewise((0, x <= 2), (5*(x - 2)**4/32, x <= 4), (0, True))"
      ]
     },
     "metadata": {},
     "output_type": "display_data"
    },
    {
     "name": "stdout",
     "output_type": "stream",
     "text": [
      "mathematical expectation: 11/3\n",
      "dispersion: 5/63\n",
      "standard deviation sqrt(35)/21\n"
     ]
    }
   ],
   "source": [
    "# probability density \n",
    "f = F.diff()\n",
    "\n",
    "# mathematical expectation\n",
    "M = integrate(x * f,(x,-oo, 2)) + \\\n",
    "    integrate(x * f,(x,2,4)) + \\\n",
    "    integrate(x * f,(x,4,oo))\n",
    "\n",
    "# dispersion (variance)\n",
    "D = integrate(x**2 * f,(x,-oo, 2)) + \\\n",
    "    integrate(x**2 * f,(x, 2, 4)) + \\\n",
    "    integrate(x**2 * f,(x, 4, oo)) - \\\n",
    "    M**2\n",
    "# standard deviation\n",
    "σ = sqrt (D)\n",
    "\n",
    "print (f'probability density')\n",
    "display (f)\n",
    "print ( f'mathematical expectation: {M}\\n'\n",
    "        f'dispersion: {D}\\n'\n",
    "        f'standard deviation {σ}')"
   ]
  },
  {
   "cell_type": "markdown",
   "id": "424097a3-9fc7-4ff9-acd6-7927c629b9fa",
   "metadata": {},
   "source": [
    "## Task 11 CDF & PDF problem\n",
    "CDF of a continuous random variable: \\\n",
    "$F(x) = 0,$ if $x<= 0$ \\\n",
    "$F(x) = 1/196 * (2*x**3 + 4*x**2 +x),$ if $2<x<=4$ \\\n",
    "$F(x) = 1,$ if $x>4$\n",
    "\n",
    "Find f(x), M(x), D(x)\n",
    "Find probability of X being [1;3]CDF & PDF problem¶"
   ]
  },
  {
   "cell_type": "code",
   "execution_count": 80,
   "id": "4618451e-2d87-4fb7-a41c-e3543d1b1270",
   "metadata": {},
   "outputs": [
    {
     "data": {
      "text/latex": [
       "$\\displaystyle \\begin{cases} 0 & \\text{for}\\: x \\leq 0 \\\\0.0102040816326531 x^{3} + 0.0204081632653061 x^{2} + 0.00510204081632653 x & \\text{for}\\: x \\leq 4 \\\\1 & \\text{otherwise} \\end{cases}$"
      ],
      "text/plain": [
       "Piecewise((0, x <= 0), (0.0102040816326531*x**3 + 0.0204081632653061*x**2 + 0.00510204081632653*x, x <= 4), (1, True))"
      ]
     },
     "metadata": {},
     "output_type": "display_data"
    },
    {
     "data": {
      "image/png": "[encoded data removed]",
      "text/plain": [
       "<Figure size 432x288 with 1 Axes>"
      ]
     },
     "metadata": {
      "needs_background": "light"
     },
     "output_type": "display_data"
    },
    {
     "data": {
      "text/plain": [
       "<sympy.plotting.plot.Plot at 0x17d18c07250>"
      ]
     },
     "execution_count": 80,
     "metadata": {},
     "output_type": "execute_result"
    }
   ],
   "source": [
    "F = Piecewise((0, x<=0), \n",
    "              (1/196 * (2*x**3 + 4*x**2 +x), x<=4), \n",
    "              (1, True))\n",
    "display (F)\n",
    "plot (F)"
   ]
  },
  {
   "cell_type": "code",
   "execution_count": 30,
   "id": "5bf71fe1-08e9-42c2-ad05-ee8a228b183f",
   "metadata": {},
   "outputs": [
    {
     "name": "stdout",
     "output_type": "stream",
     "text": [
      "PDF:\n"
     ]
    },
    {
     "data": {
      "text/latex": [
       "$\\displaystyle \\begin{cases} 0 & \\text{for}\\: x \\leq 1 \\\\\\frac{1}{4} & \\text{for}\\: x \\leq 5 \\\\0 & \\text{otherwise} \\end{cases}$"
      ],
      "text/plain": [
       "Piecewise((0, x <= 1), (1/4, x <= 5), (0, True))"
      ]
     },
     "metadata": {},
     "output_type": "display_data"
    },
    {
     "name": "stdout",
     "output_type": "stream",
     "text": [
      "Expectation: 3\n",
      "Variance: 4/3\n",
      "\n"
     ]
    }
   ],
   "source": [
    "# PDF \n",
    "f = F.diff()\n",
    "\n",
    "# Expectation\n",
    "M = integrate(x * f,(x,-oo, 0)) + \\\n",
    "    integrate(x * f,(x,0,4)) + \\\n",
    "    integrate(x * f,(x,4,oo))\n",
    "\n",
    "# Variance\n",
    "D = integrate(x**2 * f,(x,-oo, 0)) + \\\n",
    "    integrate(x**2 * f,(x, 0, 4)) + \\\n",
    "    integrate(x**2 * f,(x, 4, oo)) - \\\n",
    "    M**2\n",
    "\n",
    "print (f'PDF:')\n",
    "display (f)\n",
    "print ( f'Expectation: {M}\\n'\n",
    "        f'Variance: {D}\\n')"
   ]
  },
  {
   "cell_type": "code",
   "execution_count": 82,
   "id": "9c54c25a-cafb-436d-a609-80d276079afe",
   "metadata": {},
   "outputs": [
    {
     "data": {
      "text/latex": [
       "$\\displaystyle 0.438775510204082$"
      ],
      "text/plain": [
       "0.438775510204082"
      ]
     },
     "execution_count": 82,
     "metadata": {},
     "output_type": "execute_result"
    }
   ],
   "source": [
    "x1_3 = integrate(f, (x, 1 , 3))\n",
    "x1_3"
   ]
  },
  {
   "cell_type": "markdown",
   "id": "75fce282-02fc-4aff-940a-2db84b0733c9",
   "metadata": {},
   "source": [
    "## Task 12 CDF & PDF problem\n",
    "PDF of a continuous random variable:\n",
    "\n",
    "$f(x) = A*(x**2 + 2*x),$ if $(x>=2)$ & $(x<=4)$ \\\n",
    "$f(x) = 0,$ otherwise\n",
    "\n",
    "Find A, M(x), D(x)"
   ]
  },
  {
   "cell_type": "code",
   "execution_count": 83,
   "id": "b7eb8e6d-036d-4ff4-ad9b-42848d03d277",
   "metadata": {},
   "outputs": [
    {
     "data": {
      "text/plain": [
       "[3/92]"
      ]
     },
     "execution_count": 83,
     "metadata": {},
     "output_type": "execute_result"
    }
   ],
   "source": [
    "# find A\n",
    "A = Symbol ('A')\n",
    "\n",
    "f = Piecewise((A*(x**2 + 2*x), (x>=2) & (x<=4)), \n",
    "              (0, True))\n",
    "\n",
    "# integral of PDF equals 1\n",
    "fA = A*integrate (x**2 + 2*x, (x>=2) & (x<=4)) - 1\n",
    "A = solve(fA,A)\n",
    "A"
   ]
  },
  {
   "cell_type": "code",
   "execution_count": 32,
   "id": "5ad025db-1032-4ceb-9819-460161280ccc",
   "metadata": {},
   "outputs": [
    {
     "name": "stdout",
     "output_type": "stream",
     "text": [
      "PDF:\n"
     ]
    },
    {
     "data": {
      "text/latex": [
       "$\\displaystyle \\begin{cases} 0.0326086956521739 x^{2} + 0.0652173913043478 x & \\text{for}\\: x \\geq 2 \\wedge x \\leq 4 \\\\0 & \\text{otherwise} \\end{cases}$"
      ],
      "text/plain": [
       "Piecewise((0.0326086956521739*x**2 + 0.0652173913043478*x, (x >= 2) & (x <= 4)), (0, True))"
      ]
     },
     "metadata": {},
     "output_type": "display_data"
    },
    {
     "name": "stdout",
     "output_type": "stream",
     "text": [
      "Expectation: 3.17391304347826\n",
      "Variance: 0.308884688090737\n"
     ]
    }
   ],
   "source": [
    "# PDF\n",
    "f = Piecewise((3/92*(x**2 + 2*x), (x>=2) & (x<=4)), \n",
    "              (0, True))\n",
    "\n",
    "# Expectation\n",
    "M = integrate(x * f,(x,2, 4))\n",
    "\n",
    "# Variance\n",
    "D = integrate(x**2 * f,(x,2, 4)) - \\\n",
    "    M**2\n",
    "\n",
    "print (f'PDF:')\n",
    "display (f)\n",
    "print ( f'Expectation: {M}\\n'\n",
    "        f'Variance: {D}')"
   ]
  },
  {
   "attachments": {
    "3c3ef14b-ca7a-48e7-ae72-433584d3f554.png": {
     "image/png": "[encoded data removed]"
    }
   },
   "cell_type": "markdown",
   "id": "2fd029a3-a5c0-4ce1-a6bf-708b530df625",
   "metadata": {
    "jp-MarkdownHeadingCollapsed": true,
    "tags": []
   },
   "source": [
    "## Task 13 CDF & PDF problem\n",
    "\n",
    "CDF of a variable is:\n",
    "\n",
    "![image.png](attachment:3c3ef14b-ca7a-48e7-ae72-433584d3f554.png)\n",
    "\n",
    "Find c and d; f(x); M(x); D(x); probability of x being [1;2]."
   ]
  },
  {
   "cell_type": "code",
   "execution_count": 33,
   "id": "bc9a589e-8bfa-4f88-887a-d59bd85aba65",
   "metadata": {},
   "outputs": [
    {
     "data": {
      "text/latex": [
       "$\\displaystyle 1$"
      ],
      "text/plain": [
       "1"
      ]
     },
     "execution_count": 33,
     "metadata": {},
     "output_type": "execute_result"
    }
   ],
   "source": [
    "# 1. The function is continuous by definition, so c = 1, d = 5\n",
    "# Verification\n",
    "x = Symbol('x')\n",
    "\n",
    "# Given CDF\n",
    "F = Piecewise((0, x<=1), \n",
    "              ((x-1)/4, x<=5), \n",
    "              (1, True))\n",
    "# PDF\n",
    "f = F.diff()\n",
    "\n",
    "# integral f(x) on the segment [0,1] must equal 1\n",
    "integrate (f,(x, 1, 5))"
   ]
  },
  {
   "cell_type": "code",
   "execution_count": 28,
   "id": "9387683b-6327-47c1-8834-c6d969f67a1c",
   "metadata": {},
   "outputs": [
    {
     "name": "stdout",
     "output_type": "stream",
     "text": [
      "Given CDF:\n"
     ]
    },
    {
     "data": {
      "text/latex": [
       "$\\displaystyle \\begin{cases} 0 & \\text{for}\\: x \\leq 1 \\\\\\frac{x}{4} - \\frac{1}{4} & \\text{for}\\: x \\leq 5 \\\\1 & \\text{otherwise} \\end{cases}$"
      ],
      "text/plain": [
       "Piecewise((0, x <= 1), (x/4 - 1/4, x <= 5), (1, True))"
      ]
     },
     "metadata": {},
     "output_type": "display_data"
    },
    {
     "name": "stdout",
     "output_type": "stream",
     "text": [
      "PDF:\n"
     ]
    },
    {
     "data": {
      "text/latex": [
       "$\\displaystyle \\begin{cases} 0.0326086956521739 x^{2} + 0.0652173913043478 x & \\text{for}\\: x \\geq 2 \\wedge x \\leq 4 \\\\0 & \\text{otherwise} \\end{cases}$"
      ],
      "text/plain": [
       "Piecewise((0.0326086956521739*x**2 + 0.0652173913043478*x, (x >= 2) & (x <= 4)), (0, True))"
      ]
     },
     "metadata": {},
     "output_type": "display_data"
    },
    {
     "name": "stdout",
     "output_type": "stream",
     "text": [
      "Expected value: 3.17391304347826\n",
      "Variance: 0.308884688090737\n",
      "Probability of x being [1;2]: 1/4\n"
     ]
    }
   ],
   "source": [
    "# Expectation\n",
    "M = integrate(x * f,(x,-oo, 1)) + \\\n",
    "    integrate(x * f,(x,1,5)) + \\\n",
    "    integrate(x * f,(x,5,oo))\n",
    "\n",
    "# Variance\n",
    "D = integrate(x**2 * f,(x,-oo, 1)) + \\\n",
    "    integrate(x**2 * f,(x, 1, 5)) + \\\n",
    "    integrate(x**2 * f,(x, 5, oo)) - \\\n",
    "    M**2\n",
    "\n",
    "# Probability of x being [1;2]\n",
    "P = F.subs({x:2}) - F.subs({x:1})\n",
    "\n",
    "# Answer\n",
    "print (f'Given CDF:')\n",
    "display (F)\n",
    "print (f'PDF:')\n",
    "display (f)\n",
    "print (f'Expected value: {M}\\n' \n",
    "       f'Variance: {D}\\n' \n",
    "       f'Probability of x being [1;2]: {P}')"
   ]
  },
  {
   "cell_type": "markdown",
   "id": "c1edc8b6-a4bf-4ee9-b393-087987eddc1f",
   "metadata": {},
   "source": [
    "## Task 14 Uniform distribution\n",
    "It is known that all values of a uniformly distributed random variable lie in the interval [3;9]. \n",
    "Find the probability that this random variable falls into the interval (5;7)"
   ]
  },
  {
   "cell_type": "code",
   "execution_count": 6,
   "id": "cf1eac7c-4651-4611-a0b9-6afd81dde0ce",
   "metadata": {},
   "outputs": [
    {
     "name": "stdout",
     "output_type": "stream",
     "text": [
      "Probability of the random variable to fall into the interval (5;7) is: 1/3\n"
     ]
    }
   ],
   "source": [
    "# In a uniform distribution, the probability density is a constant. \n",
    "# So the PDF looks like F(x) = px\n",
    "# The integral under the definition space f(x) is equal to 1 and is equal to F(xn) - F(x0)\n",
    "\n",
    "F_int = x*9 - x*3 - 1\n",
    "p = solve (F_int,x)\n",
    "p57 = 7*p[0] - 5*p[0]\n",
    "print (f'Probability of the random variable to fall into the interval (5;7) is: {p57}')"
   ]
  },
  {
   "cell_type": "markdown",
   "id": "605dd70e-b3d2-4542-acf7-cb640dab13d8",
   "metadata": {},
   "source": [
    "## Task 15 Normal distribution\n",
    "Random variable X has a normal distribution with expectation a = 5 and variance D(x) = 9. \n",
    "Find the probability that this random variable falls into the interval (7;12)"
   ]
  },
  {
   "cell_type": "code",
   "execution_count": 7,
   "id": "8cefe6e2-8b06-4120-8f8a-d25b4412d198",
   "metadata": {},
   "outputs": [
    {
     "name": "stdout",
     "output_type": "stream",
     "text": [
      "2.3333 0.6667\n"
     ]
    }
   ],
   "source": [
    "Φ1 = round((7 - 5)/sqrt(9), 4)\n",
    "Φ2 = round((12 - 5)/sqrt(9), 4)\n",
    "print (Φ2, Φ1)"
   ]
  },
  {
   "cell_type": "code",
   "execution_count": 8,
   "id": "6821dffa-962b-4584-98bf-7d91f7d0ad78",
   "metadata": {},
   "outputs": [
    {
     "name": "stdout",
     "output_type": "stream",
     "text": [
      "Probability of the random variable to fall into the interval (7;12) is: 0.24\n"
     ]
    }
   ],
   "source": [
    "# P = Φ2(2.33) - Φ1(0.66)\n",
    "P = round(0.4898 - 0.2454, 2)\n",
    "print (f'Probability of the random variable to fall into the interval (7;12) is: {P}')"
   ]
  },
  {
   "cell_type": "markdown",
   "id": "c447bb7e-4ddb-4cbe-8178-132a37bbaed1",
   "metadata": {},
   "source": [
    "## Task 16 Normal distribution\n",
    "Determine PDF of a normally distributed random variable X, if  M(x) = 4 and D(x) = 12. \n",
    "Find the probability of the random variable to fall into the interval (6;10)."
   ]
  },
  {
   "cell_type": "code",
   "execution_count": 12,
   "id": "0f2b6867-72fe-4821-ab97-70206f3295f7",
   "metadata": {},
   "outputs": [
    {
     "data": {
      "text/latex": [
       "$\\displaystyle 0.24$"
      ],
      "text/plain": [
       "0.24"
      ]
     },
     "execution_count": 12,
     "metadata": {},
     "output_type": "execute_result"
    }
   ],
   "source": [
    "x, mu, sigma = symbols('x, mu, sigma')\n",
    "\n",
    "def pdf (x, mu, sigma): \n",
    "    return (1/(sigma*sqrt(2*pi)))*exp(-(x-mu)**2/(2*sigma**2))\n",
    "\n",
    "P6_10 = round (integrate (pdf(x, 4, 2*sqrt(3)), (x,6,10)), 2)\n",
    "P6_10"
   ]
  },
  {
   "cell_type": "markdown",
   "id": "ada279d1-6402-4865-900a-c088c9faaac8",
   "metadata": {
    "tags": []
   },
   "source": [
    "# Random value generation"
   ]
  },
  {
   "cell_type": "markdown",
   "id": "f5b44421-2fc4-446d-859b-38ce2ca31604",
   "metadata": {},
   "source": [
    "## Task 17 Multiplicative method \n",
    "Using the multiplicative method, make a sequence of 10 random numbers."
   ]
  },
  {
   "cell_type": "code",
   "execution_count": 17,
   "id": "f331e221-6223-491f-9157-db567e30a689",
   "metadata": {},
   "outputs": [
    {
     "name": "stdin",
     "output_type": "stream",
     "text": [
      "enter prime number a>0 5\n"
     ]
    },
    {
     "data": {
      "text/plain": [
       "{1: 15.12667461409601,\n",
       " 2: 86.63337307048005,\n",
       " 3: 78.16686535240024,\n",
       " 4: 35.83432676200118,\n",
       " 5: 68.17163381000591,\n",
       " 6: 107.85816905002957,\n",
       " 7: 62.29084525014787,\n",
       " 8: 78.45422625073934,\n",
       " 9: 37.271131253696694,\n",
       " 10: 75.35565626848347}"
      ]
     },
     "execution_count": 17,
     "metadata": {},
     "output_type": "execute_result"
    }
   ],
   "source": [
    "def randomizer ():\n",
    "    random_set = {}\n",
    "    a = (int(input('enter prime number a>0')))\n",
    "    c = a*2+1 # making a prime number to lengthen the period of the sequence\n",
    "    m = c**2+1 # the same\n",
    "    x = random.random()\n",
    "    \n",
    "    for i in range (1,11):\n",
    "        x = (x*a + c)%m\n",
    "        random_set[i] = x\n",
    "    \n",
    "    return random_set\n",
    "\n",
    "randomizer ()"
   ]
  },
  {
   "attachments": {
    "18a80282-3012-4d98-bd4b-bb98aaed99fd.png": {
     "image/png": "[encoded data removed]"
    }
   },
   "cell_type": "markdown",
   "id": "a7fabff6-a152-4a1e-8694-ad09eefec884",
   "metadata": {},
   "source": [
    "## Task 18 Inverse function\n",
    "Some random variable is given by the exponential distribution law\n",
    "\n",
    "![image.png](attachment:18a80282-3012-4d98-bd4b-bb98aaed99fd.png)\n",
    "\n",
    "Generate 10 random numbers"
   ]
  },
  {
   "cell_type": "code",
   "execution_count": 18,
   "id": "ac592140-981f-4055-80e4-196b83295dbc",
   "metadata": {},
   "outputs": [
    {
     "data": {
      "image/png": "[encoded data removed]",
      "text/plain": [
       "<Figure size 432x288 with 1 Axes>"
      ]
     },
     "metadata": {
      "needs_background": "light"
     },
     "output_type": "display_data"
    }
   ],
   "source": [
    "import math\n",
    "import numpy as np\n",
    "import matplotlib.pyplot as plt\n",
    "%matplotlib inline\n",
    "\n",
    "lam =4\n",
    "\n",
    "exp_values = []\n",
    "for _ in range (10000):\n",
    "    exp_rand = -np.log(np.random.uniform(0,1))/lam\n",
    "    exp_values.append(exp_rand)\n",
    "\n",
    "plt.hist (exp_values, bins=1000)\n",
    "plt.show()"
   ]
  },
  {
   "cell_type": "markdown",
   "id": "15b93bd3-c788-44d5-8717-0238466095b0",
   "metadata": {
    "tags": []
   },
   "source": [
    "# Statistical tests"
   ]
  },
  {
   "cell_type": "markdown",
   "id": "ce9435af-6da9-4666-bb6b-f4a78aae71f5",
   "metadata": {},
   "source": [
    "## Task 20 T-test\n",
    "The mean life expectancy of men in the overall population is known to be µ0 = 75 years. We have a sample of men with life expectancies of 56, 81, 72, 65, 67, 62 and 70 years. Test H0 hypothesis: the average life expectancy of men in the sample equals the population average, µ0 = µ1."
   ]
  },
  {
   "cell_type": "code",
   "execution_count": 20,
   "id": "13c06c8b-4fdd-426c-90de-64f3835c802d",
   "metadata": {},
   "outputs": [
    {
     "name": "stdout",
     "output_type": "stream",
     "text": [
      "If a = 5%, Ho should be rejected, because p_value = 0.046\n",
      "Mean life expectancy of men in the sample \n",
      "is statistically significantly different from the general mean\n"
     ]
    }
   ],
   "source": [
    "sample = [56, 81, 72, 65, 67, 62, 70]\n",
    "µ0 = 75.1\n",
    "n = len(sample)\n",
    "\n",
    "# sample mean and unbiased sample standard deviation\n",
    "x_bar = sum(sample) / n\n",
    "s = sqrt(sum([(x - x_bar)**2 for x in sample]) / (n-1))\n",
    "\n",
    "# t-test and p-value for a two-tailed test\n",
    "ts = float((x_bar - µ0) / (s / sqrt(n)))\n",
    "p_value = 2 * t.cdf(ts, df=n-1)\n",
    "\n",
    "print (f'If a = 5%, Ho should be rejected, because p_value = {p_value:.2}\\n'\n",
    "       f'Mean life expectancy of men in the sample \\n'\n",
    "       f'is statistically significantly different from the general mean')"
   ]
  },
  {
   "cell_type": "markdown",
   "id": "3fe6d59e-c7d0-4576-8b32-475d1593851b",
   "metadata": {},
   "source": [
    "## Task 21 T-test\n",
    "After analyzing a sample of size n = 35, the average weight of products produced at the factory was determined to be µ1 = 144 g. The standard weight of parts is µ0 = 135 g. The sample has a standard deviation of σ = 50 g. The objective is to test the null hypothesis that the means are equal: µ0 = µ1."
   ]
  },
  {
   "cell_type": "code",
   "execution_count": 21,
   "id": "941f3f0b-f599-44ec-9c58-cdcb1a2b46b5",
   "metadata": {},
   "outputs": [
    {
     "name": "stdout",
     "output_type": "stream",
     "text": [
      "If a = 5%, Ho cannot be rejected, because p_value = 1.7\n",
      "Result: the value of 144 is an admissible norm for the state standard.\n"
     ]
    }
   ],
   "source": [
    "µ0 = 135\n",
    "x_bar, n, s = 144, 35, 50\n",
    "\n",
    "# t-test and p-value for a two-tailed test \n",
    "ts = float((x_bar - µ0) / (s / sqrt(n)))\n",
    "p_value = 2 * t.cdf(ts, df=n-1)\n",
    "\n",
    "print (f'If a = 5%, Ho cannot be rejected, because p_value = {p_value:.2}\\n'\n",
    "      f'Result: the value of {x_bar} is an admissible norm for the state standard.')"
   ]
  },
  {
   "cell_type": "markdown",
   "id": "a19a086a-7a12-40cc-883c-d7e1e0061b63",
   "metadata": {},
   "source": [
    "## Task 22 Confidence interval\n",
    "According to statistics, in a certain city in 100 catering establishments, the average number of employees is 12.4 with a standard deviation of 4.8. Determine the confidence interval of 95% of the number of catering workers."
   ]
  },
  {
   "cell_type": "code",
   "execution_count": 22,
   "id": "9cdd4f9b-9f99-44b5-bd60-88efc7e10ec1",
   "metadata": {},
   "outputs": [
    {
     "name": "stdout",
     "output_type": "stream",
     "text": [
      "The 95% confidence interval is between 11.4 and 13.35\n"
     ]
    }
   ],
   "source": [
    "n, x_bar, s = 100, 12.4, 4.8\n",
    "alfa = 0.05\n",
    "\n",
    "# percent point function (inverse of cdf)\n",
    "t_crit = t.ppf (1-alfa/2, n-1)\n",
    "\n",
    "lower = x_bar-t_crit*s/sqrt(n)\n",
    "upper = x_bar+t_crit*s/sqrt(n)\n",
    "\n",
    "print (f'The 95% confidence interval is between {lower:.3} '\n",
    "       f'and {upper:.4}')"
   ]
  },
  {
   "cell_type": "markdown",
   "id": "380b1c9a-a926-4f3c-831f-873f88f4c431",
   "metadata": {},
   "source": [
    "## Task 23 Confidence interval\n",
    "For a random sample of 54 observations, the following quantities are known:\n",
    "- Sum of values in observations is $450$\n",
    "- Sum of squared deviation of values from the mean is $2600$\n",
    "\n",
    "Determinr the 95% confidence interval for the expected value"
   ]
  },
  {
   "cell_type": "code",
   "execution_count": 25,
   "id": "32211937-06ba-4331-b91a-25ff6d576b81",
   "metadata": {},
   "outputs": [
    {
     "name": "stdout",
     "output_type": "stream",
     "text": [
      "The 95% confidence interval is between 6.42 and 10.25\n"
     ]
    }
   ],
   "source": [
    "n = 54\n",
    "s = sqrt(2600 / (n-1))\n",
    "x_bar = 450/n\n",
    "alfa = 0.05\n",
    "\n",
    "# percent point function (inverse of cdf)\n",
    "t_crit = t.ppf (1-alfa/2, n-1)\n",
    "\n",
    "lower = x_bar-t_crit*s/sqrt(n)\n",
    "upper = x_bar+t_crit*s/sqrt(n)\n",
    "\n",
    "print (f'The 95% confidence interval is between {lower.n():.3} '\n",
    "       f'and {upper.n():.4}')"
   ]
  },
  {
   "attachments": {
    "1db526ec-f2c3-4a39-9297-7f7f5cedec6a.png": {
     "image/png": "[encoded data removed]"
    }
   },
   "cell_type": "markdown",
   "id": "72da0a05-2795-4ef1-b9f2-d71766cb264b",
   "metadata": {},
   "source": [
    "## Task 24 Mann-Whitney test\n",
    "Two random variables X and Y are not normally distributed. The null hypothesis of equality of means, µx = µy, is to be tested using the nonparametric Mann-Whitney test.\n",
    "![image.png](attachment:1db526ec-f2c3-4a39-9297-7f7f5cedec6a.png)"
   ]
  },
  {
   "cell_type": "code",
   "execution_count": 24,
   "id": "7cdb8462-11ec-4c18-9b2e-bc1ce9dc5f56",
   "metadata": {},
   "outputs": [
    {
     "name": "stdout",
     "output_type": "stream",
     "text": [
      "U-test for two samples makes 24.5\n",
      "For given parameters: two-tailed, n=9, m=7, alfa = 0.05 \n",
      "the threshold U-value is 12.\n",
      "Since 24.5 > 12, H0 is to be accepted\n"
     ]
    }
   ],
   "source": [
    "X = (-2,1,4,-1,5,7,9,0,12)\n",
    "Y = (6,-3,2,1,0,4,2)\n",
    "Xn = len(X)\n",
    "Yn = len(Y)\n",
    "\n",
    "U_crit_param = ('two-tailed, n=9, m=7, alfa = 0.05')\n",
    "U_crit = 12\n",
    "\n",
    "ranks = rankdata (X+Y)\n",
    "ranks_x, ranks_y = ranks[:Xn], ranks[Xn : Xn+Yn]\n",
    "Rx, Ry  = sum(ranks_x), sum(ranks_y)\n",
    "\n",
    "U1 = Xn*Yn + Xn*(Xn+1)/2 - Rx\n",
    "U2 = Xn*Yn + Yn*(Yn+1)/2 - Ry\n",
    "\n",
    "print (f'U-test for two samples makes {min(U1,U2)}\\n'\n",
    "       f'For given parameters: {U_crit_param} \\n'\n",
    "       f'the threshold U-value is {U_crit}.\\n'\n",
    "       f'Since {min(U1,U2)} > {U_crit}, H0 is to be accepted')"
   ]
  },
  {
   "cell_type": "code",
   "execution_count": null,
   "id": "eb44d9bc-7bc8-4a93-a6a2-5d25bd66f080",
   "metadata": {},
   "outputs": [],
   "source": []
  }
 ],
 "metadata": {
  "kernelspec": {
   "display_name": "Python 3 (ipykernel)",
   "language": "python",
   "name": "python3"
  },
  "language_info": {
   "codemirror_mode": {
    "name": "ipython",
    "version": 3
   },
   "file_extension": ".py",
   "mimetype": "text/x-python",
   "name": "python",
   "nbconvert_exporter": "python",
   "pygments_lexer": "ipython3",
   "version": "3.9.12"
  }
 },
 "nbformat": 4,
 "nbformat_minor": 5
}
